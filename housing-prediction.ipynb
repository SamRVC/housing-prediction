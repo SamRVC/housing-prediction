{
 "cells": [
  {
   "attachments": {},
   "cell_type": "markdown",
   "metadata": {},
   "source": [
    "The purpose of this project is to use the Ames Housing Dataset to preform predictive analysis on the sales price of homes. The dataset can be found at https://www.kaggle.com/datasets/prevek18/ames-housing-dataset. This dataset contains a number of attributes for homes such as square footage, overall quality as rated by real estate agents, and others that were sold in Ames, Iowa in the early 2000s. This dataset contains the final price the home was sold at, allowing for pricing predictions\n",
    "\n",
    "To begin, we need to know the scope of the data we are working with. Luckily, a column definitions document can be found at https://jse.amstat.org/v19n3/decock/DataDocumentation.txt. Using this documentation, we can see that there are 2930 total observations within the dataset, along with 82 total features. Before we can start predictive analysis, it is clear that dimensionality reduction is required to reduce the chances of over-fitting. There are number of routes that could be taken to reduce the number of features, but it is often best to start with the simplest. We will naively select top_top_columns based on their correlation to the dependent variable, the sales price."
   ]
  },
  {
   "cell_type": "code",
   "execution_count": 130,
   "metadata": {},
   "outputs": [],
   "source": [
    "import matplotlib.pyplot as plt\n",
    "\n",
    "import seaborn as sn\n",
    "import matplotlib.pyplot as plt"
   ]
  },
  {
   "cell_type": "code",
   "execution_count": 131,
   "metadata": {},
   "outputs": [],
   "source": [
    "import pandas as pd\n",
    "\n",
    "df = pd.read_csv(\"AmesHousing.csv\")"
   ]
  },
  {
   "cell_type": "code",
   "execution_count": 178,
   "metadata": {},
   "outputs": [
    {
     "data": {
      "application/vnd.plotly.v1+json": {
       "config": {
        "plotlyServerURL": "https://plot.ly"
       },
       "data": [
        {
         "coloraxis": "coloraxis",
         "hovertemplate": "x: %{x}<br>y: %{y}<br>color: %{z}<extra></extra>",
         "name": "0",
         "texttemplate": "%{z}",
         "type": "heatmap",
         "x": [
          "SalePrice",
          "Overall Qual",
          "Gr Liv Area",
          "Garage Cars",
          "Garage Area",
          "Total Bsmt SF",
          "Year Built",
          "1st Flr SF",
          "Full Bath",
          "Year Remod/Add",
          "Fireplaces",
          "TotRms AbvGrd"
         ],
         "xaxis": "x",
         "y": [
          "SalePrice",
          "Overall Qual",
          "Gr Liv Area",
          "Garage Cars",
          "Garage Area",
          "Total Bsmt SF",
          "Year Built",
          "1st Flr SF",
          "Full Bath",
          "Year Remod/Add",
          "Fireplaces",
          "TotRms AbvGrd"
         ],
         "yaxis": "y",
         "z": [
          [
           1,
           0.7992617947690243,
           0.7067799209766268,
           0.6478765953956601,
           0.640400766987396,
           0.632280457106512,
           0.5584261057120437,
           0.6216760632702522,
           0.5456039005201108,
           0.5329737540266941,
           0.47455809259177717,
           0.4954744168570339
          ],
          [
           0.7992617947690243,
           1,
           0.5705558566643731,
           0.5995448995511761,
           0.5635025491286423,
           0.5472940489040065,
           0.59702720282959,
           0.4778370726918645,
           0.5222625683015794,
           0.5696087842620899,
           0.39300692243199875,
           0.3806928383741787
          ],
          [
           0.7067799209766268,
           0.5705558566643731,
           1,
           0.48882878012051145,
           0.4848922687455689,
           0.444675242797194,
           0.24172578752983415,
           0.5621658429320089,
           0.6303208098774116,
           0.3168548379837697,
           0.45492419587530547,
           0.8077721448904711
          ],
          [
           0.6478765953956601,
           0.5995448995511761,
           0.48882878012051145,
           1,
           0.8896762825411666,
           0.4376077108402146,
           0.5374434737131197,
           0.43945792625343927,
           0.4781815239247537,
           0.4254033452489704,
           0.3212063113699648,
           0.3555570326441888
          ],
          [
           0.640400766987396,
           0.5635025491286423,
           0.4848922687455689,
           0.8896762825411666,
           1,
           0.48550440477615997,
           0.4801313346964992,
           0.4912227046587884,
           0.40746408141856166,
           0.3764381815435648,
           0.2938533153196024,
           0.32728010321213885
          ],
          [
           0.632280457106512,
           0.5472940489040065,
           0.444675242797194,
           0.4376077108402146,
           0.48550440477615997,
           1,
           0.4075262313671811,
           0.8007203902506753,
           0.32497303350482404,
           0.2974809756314833,
           0.33308557522517895,
           0.28075029563611936
          ],
          [
           0.5584261057120437,
           0.59702720282959,
           0.24172578752983415,
           0.5374434737131197,
           0.4801313346964992,
           0.4075262313671811,
           1,
           0.310462545287418,
           0.4694061879386711,
           0.6120952503946816,
           0.17067208619298405,
           0.11191863253760818
          ],
          [
           0.6216760632702522,
           0.4778370726918645,
           0.5621658429320089,
           0.43945792625343927,
           0.4912227046587884,
           0.8007203902506753,
           0.310462545287418,
           1,
           0.37158378128339353,
           0.24210781465639317,
           0.4063447956770436,
           0.3901620088966585
          ],
          [
           0.5456039005201108,
           0.5222625683015794,
           0.6303208098774116,
           0.4781815239247537,
           0.40746408141856166,
           0.32497303350482404,
           0.4694061879386711,
           0.37158378128339353,
           1,
           0.45726590954979873,
           0.22979309753391228,
           0.5285991741538512
          ],
          [
           0.5329737540266941,
           0.5696087842620899,
           0.3168548379837697,
           0.4254033452489704,
           0.3764381815435648,
           0.2974809756314833,
           0.6120952503946816,
           0.24210781465639317,
           0.45726590954979873,
           1,
           0.13332213313073427,
           0.19752839412904669
          ],
          [
           0.47455809259177717,
           0.39300692243199875,
           0.45492419587530547,
           0.3212063113699648,
           0.2938533153196024,
           0.33308557522517895,
           0.17067208619298405,
           0.4063447956770436,
           0.22979309753391228,
           0.13332213313073427,
           1,
           0.3028652754575016
          ],
          [
           0.4954744168570339,
           0.3806928383741787,
           0.8077721448904711,
           0.3555570326441888,
           0.32728010321213885,
           0.28075029563611936,
           0.11191863253760818,
           0.3901620088966585,
           0.5285991741538512,
           0.19752839412904669,
           0.3028652754575016,
           1
          ]
         ]
        }
       ],
       "layout": {
        "coloraxis": {
         "colorscale": [
          [
           0,
           "#0d0887"
          ],
          [
           0.1111111111111111,
           "#46039f"
          ],
          [
           0.2222222222222222,
           "#7201a8"
          ],
          [
           0.3333333333333333,
           "#9c179e"
          ],
          [
           0.4444444444444444,
           "#bd3786"
          ],
          [
           0.5555555555555556,
           "#d8576b"
          ],
          [
           0.6666666666666666,
           "#ed7953"
          ],
          [
           0.7777777777777778,
           "#fb9f3a"
          ],
          [
           0.8888888888888888,
           "#fdca26"
          ],
          [
           1,
           "#f0f921"
          ]
         ]
        },
        "margin": {
         "t": 60
        },
        "template": {
         "data": {
          "bar": [
           {
            "error_x": {
             "color": "#2a3f5f"
            },
            "error_y": {
             "color": "#2a3f5f"
            },
            "marker": {
             "line": {
              "color": "#E5ECF6",
              "width": 0.5
             },
             "pattern": {
              "fillmode": "overlay",
              "size": 10,
              "solidity": 0.2
             }
            },
            "type": "bar"
           }
          ],
          "barpolar": [
           {
            "marker": {
             "line": {
              "color": "#E5ECF6",
              "width": 0.5
             },
             "pattern": {
              "fillmode": "overlay",
              "size": 10,
              "solidity": 0.2
             }
            },
            "type": "barpolar"
           }
          ],
          "carpet": [
           {
            "aaxis": {
             "endlinecolor": "#2a3f5f",
             "gridcolor": "white",
             "linecolor": "white",
             "minorgridcolor": "white",
             "startlinecolor": "#2a3f5f"
            },
            "baxis": {
             "endlinecolor": "#2a3f5f",
             "gridcolor": "white",
             "linecolor": "white",
             "minorgridcolor": "white",
             "startlinecolor": "#2a3f5f"
            },
            "type": "carpet"
           }
          ],
          "choropleth": [
           {
            "colorbar": {
             "outlinewidth": 0,
             "ticks": ""
            },
            "type": "choropleth"
           }
          ],
          "contour": [
           {
            "colorbar": {
             "outlinewidth": 0,
             "ticks": ""
            },
            "colorscale": [
             [
              0,
              "#0d0887"
             ],
             [
              0.1111111111111111,
              "#46039f"
             ],
             [
              0.2222222222222222,
              "#7201a8"
             ],
             [
              0.3333333333333333,
              "#9c179e"
             ],
             [
              0.4444444444444444,
              "#bd3786"
             ],
             [
              0.5555555555555556,
              "#d8576b"
             ],
             [
              0.6666666666666666,
              "#ed7953"
             ],
             [
              0.7777777777777778,
              "#fb9f3a"
             ],
             [
              0.8888888888888888,
              "#fdca26"
             ],
             [
              1,
              "#f0f921"
             ]
            ],
            "type": "contour"
           }
          ],
          "contourcarpet": [
           {
            "colorbar": {
             "outlinewidth": 0,
             "ticks": ""
            },
            "type": "contourcarpet"
           }
          ],
          "heatmap": [
           {
            "colorbar": {
             "outlinewidth": 0,
             "ticks": ""
            },
            "colorscale": [
             [
              0,
              "#0d0887"
             ],
             [
              0.1111111111111111,
              "#46039f"
             ],
             [
              0.2222222222222222,
              "#7201a8"
             ],
             [
              0.3333333333333333,
              "#9c179e"
             ],
             [
              0.4444444444444444,
              "#bd3786"
             ],
             [
              0.5555555555555556,
              "#d8576b"
             ],
             [
              0.6666666666666666,
              "#ed7953"
             ],
             [
              0.7777777777777778,
              "#fb9f3a"
             ],
             [
              0.8888888888888888,
              "#fdca26"
             ],
             [
              1,
              "#f0f921"
             ]
            ],
            "type": "heatmap"
           }
          ],
          "heatmapgl": [
           {
            "colorbar": {
             "outlinewidth": 0,
             "ticks": ""
            },
            "colorscale": [
             [
              0,
              "#0d0887"
             ],
             [
              0.1111111111111111,
              "#46039f"
             ],
             [
              0.2222222222222222,
              "#7201a8"
             ],
             [
              0.3333333333333333,
              "#9c179e"
             ],
             [
              0.4444444444444444,
              "#bd3786"
             ],
             [
              0.5555555555555556,
              "#d8576b"
             ],
             [
              0.6666666666666666,
              "#ed7953"
             ],
             [
              0.7777777777777778,
              "#fb9f3a"
             ],
             [
              0.8888888888888888,
              "#fdca26"
             ],
             [
              1,
              "#f0f921"
             ]
            ],
            "type": "heatmapgl"
           }
          ],
          "histogram": [
           {
            "marker": {
             "pattern": {
              "fillmode": "overlay",
              "size": 10,
              "solidity": 0.2
             }
            },
            "type": "histogram"
           }
          ],
          "histogram2d": [
           {
            "colorbar": {
             "outlinewidth": 0,
             "ticks": ""
            },
            "colorscale": [
             [
              0,
              "#0d0887"
             ],
             [
              0.1111111111111111,
              "#46039f"
             ],
             [
              0.2222222222222222,
              "#7201a8"
             ],
             [
              0.3333333333333333,
              "#9c179e"
             ],
             [
              0.4444444444444444,
              "#bd3786"
             ],
             [
              0.5555555555555556,
              "#d8576b"
             ],
             [
              0.6666666666666666,
              "#ed7953"
             ],
             [
              0.7777777777777778,
              "#fb9f3a"
             ],
             [
              0.8888888888888888,
              "#fdca26"
             ],
             [
              1,
              "#f0f921"
             ]
            ],
            "type": "histogram2d"
           }
          ],
          "histogram2dcontour": [
           {
            "colorbar": {
             "outlinewidth": 0,
             "ticks": ""
            },
            "colorscale": [
             [
              0,
              "#0d0887"
             ],
             [
              0.1111111111111111,
              "#46039f"
             ],
             [
              0.2222222222222222,
              "#7201a8"
             ],
             [
              0.3333333333333333,
              "#9c179e"
             ],
             [
              0.4444444444444444,
              "#bd3786"
             ],
             [
              0.5555555555555556,
              "#d8576b"
             ],
             [
              0.6666666666666666,
              "#ed7953"
             ],
             [
              0.7777777777777778,
              "#fb9f3a"
             ],
             [
              0.8888888888888888,
              "#fdca26"
             ],
             [
              1,
              "#f0f921"
             ]
            ],
            "type": "histogram2dcontour"
           }
          ],
          "mesh3d": [
           {
            "colorbar": {
             "outlinewidth": 0,
             "ticks": ""
            },
            "type": "mesh3d"
           }
          ],
          "parcoords": [
           {
            "line": {
             "colorbar": {
              "outlinewidth": 0,
              "ticks": ""
             }
            },
            "type": "parcoords"
           }
          ],
          "pie": [
           {
            "automargin": true,
            "type": "pie"
           }
          ],
          "scatter": [
           {
            "fillpattern": {
             "fillmode": "overlay",
             "size": 10,
             "solidity": 0.2
            },
            "type": "scatter"
           }
          ],
          "scatter3d": [
           {
            "line": {
             "colorbar": {
              "outlinewidth": 0,
              "ticks": ""
             }
            },
            "marker": {
             "colorbar": {
              "outlinewidth": 0,
              "ticks": ""
             }
            },
            "type": "scatter3d"
           }
          ],
          "scattercarpet": [
           {
            "marker": {
             "colorbar": {
              "outlinewidth": 0,
              "ticks": ""
             }
            },
            "type": "scattercarpet"
           }
          ],
          "scattergeo": [
           {
            "marker": {
             "colorbar": {
              "outlinewidth": 0,
              "ticks": ""
             }
            },
            "type": "scattergeo"
           }
          ],
          "scattergl": [
           {
            "marker": {
             "colorbar": {
              "outlinewidth": 0,
              "ticks": ""
             }
            },
            "type": "scattergl"
           }
          ],
          "scattermapbox": [
           {
            "marker": {
             "colorbar": {
              "outlinewidth": 0,
              "ticks": ""
             }
            },
            "type": "scattermapbox"
           }
          ],
          "scatterpolar": [
           {
            "marker": {
             "colorbar": {
              "outlinewidth": 0,
              "ticks": ""
             }
            },
            "type": "scatterpolar"
           }
          ],
          "scatterpolargl": [
           {
            "marker": {
             "colorbar": {
              "outlinewidth": 0,
              "ticks": ""
             }
            },
            "type": "scatterpolargl"
           }
          ],
          "scatterternary": [
           {
            "marker": {
             "colorbar": {
              "outlinewidth": 0,
              "ticks": ""
             }
            },
            "type": "scatterternary"
           }
          ],
          "surface": [
           {
            "colorbar": {
             "outlinewidth": 0,
             "ticks": ""
            },
            "colorscale": [
             [
              0,
              "#0d0887"
             ],
             [
              0.1111111111111111,
              "#46039f"
             ],
             [
              0.2222222222222222,
              "#7201a8"
             ],
             [
              0.3333333333333333,
              "#9c179e"
             ],
             [
              0.4444444444444444,
              "#bd3786"
             ],
             [
              0.5555555555555556,
              "#d8576b"
             ],
             [
              0.6666666666666666,
              "#ed7953"
             ],
             [
              0.7777777777777778,
              "#fb9f3a"
             ],
             [
              0.8888888888888888,
              "#fdca26"
             ],
             [
              1,
              "#f0f921"
             ]
            ],
            "type": "surface"
           }
          ],
          "table": [
           {
            "cells": {
             "fill": {
              "color": "#EBF0F8"
             },
             "line": {
              "color": "white"
             }
            },
            "header": {
             "fill": {
              "color": "#C8D4E3"
             },
             "line": {
              "color": "white"
             }
            },
            "type": "table"
           }
          ]
         },
         "layout": {
          "annotationdefaults": {
           "arrowcolor": "#2a3f5f",
           "arrowhead": 0,
           "arrowwidth": 1
          },
          "autotypenumbers": "strict",
          "coloraxis": {
           "colorbar": {
            "outlinewidth": 0,
            "ticks": ""
           }
          },
          "colorscale": {
           "diverging": [
            [
             0,
             "#8e0152"
            ],
            [
             0.1,
             "#c51b7d"
            ],
            [
             0.2,
             "#de77ae"
            ],
            [
             0.3,
             "#f1b6da"
            ],
            [
             0.4,
             "#fde0ef"
            ],
            [
             0.5,
             "#f7f7f7"
            ],
            [
             0.6,
             "#e6f5d0"
            ],
            [
             0.7,
             "#b8e186"
            ],
            [
             0.8,
             "#7fbc41"
            ],
            [
             0.9,
             "#4d9221"
            ],
            [
             1,
             "#276419"
            ]
           ],
           "sequential": [
            [
             0,
             "#0d0887"
            ],
            [
             0.1111111111111111,
             "#46039f"
            ],
            [
             0.2222222222222222,
             "#7201a8"
            ],
            [
             0.3333333333333333,
             "#9c179e"
            ],
            [
             0.4444444444444444,
             "#bd3786"
            ],
            [
             0.5555555555555556,
             "#d8576b"
            ],
            [
             0.6666666666666666,
             "#ed7953"
            ],
            [
             0.7777777777777778,
             "#fb9f3a"
            ],
            [
             0.8888888888888888,
             "#fdca26"
            ],
            [
             1,
             "#f0f921"
            ]
           ],
           "sequentialminus": [
            [
             0,
             "#0d0887"
            ],
            [
             0.1111111111111111,
             "#46039f"
            ],
            [
             0.2222222222222222,
             "#7201a8"
            ],
            [
             0.3333333333333333,
             "#9c179e"
            ],
            [
             0.4444444444444444,
             "#bd3786"
            ],
            [
             0.5555555555555556,
             "#d8576b"
            ],
            [
             0.6666666666666666,
             "#ed7953"
            ],
            [
             0.7777777777777778,
             "#fb9f3a"
            ],
            [
             0.8888888888888888,
             "#fdca26"
            ],
            [
             1,
             "#f0f921"
            ]
           ]
          },
          "colorway": [
           "#636efa",
           "#EF553B",
           "#00cc96",
           "#ab63fa",
           "#FFA15A",
           "#19d3f3",
           "#FF6692",
           "#B6E880",
           "#FF97FF",
           "#FECB52"
          ],
          "font": {
           "color": "#2a3f5f"
          },
          "geo": {
           "bgcolor": "white",
           "lakecolor": "white",
           "landcolor": "#E5ECF6",
           "showlakes": true,
           "showland": true,
           "subunitcolor": "white"
          },
          "hoverlabel": {
           "align": "left"
          },
          "hovermode": "closest",
          "mapbox": {
           "style": "light"
          },
          "paper_bgcolor": "white",
          "plot_bgcolor": "#E5ECF6",
          "polar": {
           "angularaxis": {
            "gridcolor": "white",
            "linecolor": "white",
            "ticks": ""
           },
           "bgcolor": "#E5ECF6",
           "radialaxis": {
            "gridcolor": "white",
            "linecolor": "white",
            "ticks": ""
           }
          },
          "scene": {
           "xaxis": {
            "backgroundcolor": "#E5ECF6",
            "gridcolor": "white",
            "gridwidth": 2,
            "linecolor": "white",
            "showbackground": true,
            "ticks": "",
            "zerolinecolor": "white"
           },
           "yaxis": {
            "backgroundcolor": "#E5ECF6",
            "gridcolor": "white",
            "gridwidth": 2,
            "linecolor": "white",
            "showbackground": true,
            "ticks": "",
            "zerolinecolor": "white"
           },
           "zaxis": {
            "backgroundcolor": "#E5ECF6",
            "gridcolor": "white",
            "gridwidth": 2,
            "linecolor": "white",
            "showbackground": true,
            "ticks": "",
            "zerolinecolor": "white"
           }
          },
          "shapedefaults": {
           "line": {
            "color": "#2a3f5f"
           }
          },
          "ternary": {
           "aaxis": {
            "gridcolor": "white",
            "linecolor": "white",
            "ticks": ""
           },
           "baxis": {
            "gridcolor": "white",
            "linecolor": "white",
            "ticks": ""
           },
           "bgcolor": "#E5ECF6",
           "caxis": {
            "gridcolor": "white",
            "linecolor": "white",
            "ticks": ""
           }
          },
          "title": {
           "x": 0.05
          },
          "xaxis": {
           "automargin": true,
           "gridcolor": "white",
           "linecolor": "white",
           "ticks": "",
           "title": {
            "standoff": 15
           },
           "zerolinecolor": "white",
           "zerolinewidth": 2
          },
          "yaxis": {
           "automargin": true,
           "gridcolor": "white",
           "linecolor": "white",
           "ticks": "",
           "title": {
            "standoff": 15
           },
           "zerolinecolor": "white",
           "zerolinewidth": 2
          }
         }
        },
        "xaxis": {
         "anchor": "y",
         "domain": [
          0,
          1
         ]
        },
        "yaxis": {
         "anchor": "x",
         "autorange": "reversed",
         "domain": [
          0,
          1
         ]
        }
       }
      }
     },
     "metadata": {},
     "output_type": "display_data"
    }
   ],
   "source": [
    "from math import ceil\n",
    "from sklearn import preprocessing\n",
    "import plotly.express as px\n",
    "\n",
    "# Converts non-numeric columns into categorical numerics so correlation can be determined\n",
    "binned_df = df.apply(preprocessing.LabelEncoder().fit_transform)\n",
    "\n",
    "# Creates a correlation matrix\n",
    "top_columns = binned_df.corr('pearson').abs()\n",
    "\n",
    "# Sorts the correlations based on their correlation to the sales price\n",
    "top_columns = top_columns.sort_values('SalePrice', ascending=False)\n",
    "\n",
    "# Captures the 20%, or 16, highest correlated columns, then stores the names of those columns as a list\n",
    "top_columns = top_columns.head(ceil(len(df.columns) * .2))\n",
    "top_columns = top_columns.index.tolist()\n",
    "\n",
    "# Creates the heatmap to display the correlation\n",
    "fig = px.imshow(df[top_columns].corr('pearson'), text_auto=True, aspect=\"auto\")\n",
    "fig.show()"
   ]
  },
  {
   "attachments": {},
   "cell_type": "markdown",
   "metadata": {},
   "source": [
    "Here we can see some of the more impactful features of the dataset. I chose to use a person correlation because our dataset contains several continuous variables, including the dependent, sales price. However, not every column combination meets this requirement, but person still proves to be a decent choice for determining correlation.\n",
    "\n",
    "If we observe the far left column, we can see the correlation between our top 20% columns and the sales price. Our best preforming column is \"Overall Qual\", which is a 1 to 10 ranking of the overall quality of the home. This makes sense logically as the quality of the home would obviously have a large impact on the price of a home. The next three columns all refer to the size of the garage, all of which have a positive correlation, implying that prospective home buyers prefer larger homes over smaller. The remaining attributes also show positive correlations, focusing on overall home size and amenities such as fireplaces and time since last remodel/addition.\n",
    "\n",
    "This is a simplistic approach for determining key features for use in machine learning, however there is a lot more that could be done to improve the quality of our feature engineering. Several columns in this dataset are categorical, meaning there might be specific values that have high correlation, but are being hidden by the overall correlation of the column. To help identify impactful \"sub features\", we will preform one-hot encoding to show the correlation between categorical features."
   ]
  },
  {
   "cell_type": "code",
   "execution_count": 133,
   "metadata": {},
   "outputs": [],
   "source": [
    "import numpy as np\n",
    "from sklearn.preprocessing import OneHotEncoder\n",
    "\n",
    "top_features = df[top_columns]\n",
    "categorical_columns = ['Garage Cars', 'Full Bath', 'Fireplaces', 'TotRoms AbvGrd', 'Overall Qual']\n",
    "\n",
    "one_hot_encoder = OneHotEncoder(sparse=False, drop='last')\n"
   ]
  },
  {
   "cell_type": "code",
   "execution_count": 183,
   "metadata": {},
   "outputs": [
    {
     "data": {
      "application/vnd.plotly.v1+json": {
       "config": {
        "plotlyServerURL": "https://plot.ly"
       },
       "data": [
        {
         "coloraxis": "coloraxis",
         "hovertemplate": "x: %{x}<br>y: %{y}<br>color: %{z}<extra></extra>",
         "name": "0",
         "texttemplate": "%{z}",
         "type": "heatmap",
         "x": [
          "SalePrice",
          "Gr Liv Area",
          "1st Flr SF",
          "Garage Cars 3.0",
          "Bsmt Qual Ex",
          "Year Built",
          "Year Remod/Add",
          "Full Bath 1",
          "Overall Qual 9",
          "Bsmt Qual TA",
          "Full Bath 2",
          "Overall Qual 8",
          "Garage Cars 1.0",
          "Overall Qual 5",
          "Overall Qual 10",
          "Overall Qual 4"
         ],
         "xaxis": "x",
         "y": [
          "SalePrice",
          "Gr Liv Area",
          "1st Flr SF",
          "Garage Cars 3.0",
          "Bsmt Qual Ex",
          "Year Built",
          "Year Remod/Add",
          "Full Bath 1",
          "Overall Qual 9",
          "Bsmt Qual TA",
          "Full Bath 2",
          "Overall Qual 8",
          "Garage Cars 1.0",
          "Overall Qual 5",
          "Overall Qual 10",
          "Overall Qual 4"
         ],
         "yaxis": "y",
         "z": [
          [
           1,
           0.8640491045854056,
           0.8497014996850023,
           0.7829917273121294,
           0.7769053033636268,
           0.6426838074284701,
           0.6770860153355877,
           0.6460637459151601,
           0.6141842517439837,
           0.5463605822962394,
           0.5737492175108634,
           0.6008371535408988,
           0.468886096685913,
           0.44304268227796667,
           0.42669089926441,
           0.24594737428245772
          ],
          [
           0.8640491045854056,
           1,
           0.8162485474121052,
           0.6313955783368529,
           0.5464068620447521,
           0.41116504933334014,
           0.4947008670494776,
           0.7083235049785226,
           0.394062170805729,
           0.3938869110852297,
           0.6405006165399231,
           0.4666959240220172,
           0.46743261899304084,
           0.39699956870077296,
           0.4017628459323098,
           0.19345921327027263
          ],
          [
           0.8497014996850023,
           0.8162485474121052,
           1,
           0.6803288035375828,
           0.6503646931207115,
           0.3980146642398633,
           0.4002139157708981,
           0.5005528519215656,
           0.5106388470289018,
           0.2957556992934465,
           0.4308132427289319,
           0.4657768983229306,
           0.36620554224358665,
           0.22448313590129215,
           0.4434671959239466,
           0.17396195115698734
          ],
          [
           0.7829917273121294,
           0.6313955783368529,
           0.6803288035375828,
           1,
           0.7513562756554951,
           0.42848597293976753,
           0.44101673613086617,
           0.4146411373363339,
           0.6380094854611985,
           0.3527454429785893,
           0.3510115074846225,
           0.5506148047959909,
           0.3930523530427516,
           0.291369517056191,
           0.3820617589700945,
           0.07970421408699556
          ],
          [
           0.7769053033636268,
           0.5464068620447521,
           0.6503646931207115,
           0.7513562756554951,
           1,
           0.42991552292782187,
           0.43588433120888576,
           0.3284720236454229,
           0.7887825062070739,
           0.37709720109198913,
           0.2604456686200687,
           0.3935094180495932,
           0.2541760465784485,
           0.23943104558265774,
           0.4535743158004589,
           0.04016338382798353
          ],
          [
           0.6426838074284701,
           0.41116504933334014,
           0.3980146642398633,
           0.42848597293976753,
           0.42991552292782187,
           1,
           0.8797848472565912,
           0.7364395327143977,
           0.2935732292875784,
           0.8830082419743128,
           0.7250299793326586,
           0.5130669827385875,
           0.6952720365298507,
           0.551455968767869,
           0.03271359327978207,
           0.30580369986628797
          ],
          [
           0.6770860153355877,
           0.4947008670494776,
           0.4002139157708981,
           0.44101673613086617,
           0.43588433120888576,
           0.8797848472565912,
           1,
           0.7345391151685564,
           0.3006719657489063,
           0.8081659762500905,
           0.7136243586725637,
           0.5236510548418815,
           0.6399661751020911,
           0.5549832681176037,
           0.07526843573147403,
           0.30810738460283194
          ],
          [
           0.6460637459151601,
           0.7083235049785226,
           0.5005528519215656,
           0.4146411373363339,
           0.3284720236454229,
           0.7364395327143977,
           0.7345391151685564,
           1,
           0.22136447016149877,
           0.7424658701489475,
           0.9930433892729622,
           0.45162492544231064,
           0.7510036410511564,
           0.6109596952994845,
           0.06803376139141598,
           0.24485856688522034
          ],
          [
           0.6141842517439837,
           0.394062170805729,
           0.5106388470289018,
           0.6380094854611985,
           0.7887825062070739,
           0.2935732292875784,
           0.3006719657489063,
           0.22136447016149877,
           1,
           0.23477042900790915,
           0.1689636601550546,
           0.20724393946634137,
           0.16836560495891295,
           0.15944859306230916,
           0.14197052004656452,
           0.015650148602748302
          ],
          [
           0.5463605822962394,
           0.3938869110852297,
           0.2957556992934465,
           0.3527454429785893,
           0.37709720109198913,
           0.8830082419743128,
           0.8081659762500905,
           0.7424658701489475,
           0.23477042900790915,
           1,
           0.736473708292049,
           0.49989143710889583,
           0.699382600049895,
           0.61066177240334,
           0.026162092502405674,
           0.19845282798164054
          ],
          [
           0.5737492175108634,
           0.6405006165399231,
           0.4308132427289319,
           0.3510115074846225,
           0.2604456686200687,
           0.7250299793326586,
           0.7136243586725637,
           0.9930433892729622,
           0.1689636601550546,
           0.736473708292049,
           1,
           0.4217250889760765,
           0.7425622136270758,
           0.5991498592438563,
           0.00877384751507627,
           0.23683032702370907
          ],
          [
           0.6008371535408988,
           0.4666959240220172,
           0.4657768983229306,
           0.5506148047959909,
           0.3935094180495932,
           0.5130669827385875,
           0.5236510548418815,
           0.45162492544231064,
           0.20724393946634137,
           0.49989143710889583,
           0.4217250889760765,
           1,
           0.34718021703029533,
           0.4293125820920198,
           0.06973693836794807,
           0.1472724088618063
          ],
          [
           0.468886096685913,
           0.46743261899304084,
           0.36620554224358665,
           0.3930523530427516,
           0.2541760465784485,
           0.6952720365298507,
           0.6399661751020911,
           0.7510036410511564,
           0.16836560495891295,
           0.699382600049895,
           0.7425622136270758,
           0.34718021703029533,
           1,
           0.5330420914832381,
           0.0287541848016567,
           0.18942328796266325
          ],
          [
           0.44304268227796667,
           0.39699956870077296,
           0.22448313590129215,
           0.291369517056191,
           0.23943104558265774,
           0.551455968767869,
           0.5549832681176037,
           0.6109596952994845,
           0.15944859306230916,
           0.61066177240334,
           0.5991498592438563,
           0.4293125820920198,
           0.5330420914832381,
           1,
           0.0010293251015527514,
           0.2603302674481976
          ],
          [
           0.42669089926441,
           0.4017628459323098,
           0.4434671959239466,
           0.3820617589700945,
           0.4535743158004589,
           0.03271359327978207,
           0.07526843573147403,
           0.06803376139141598,
           0.14197052004656452,
           0.026162092502405674,
           0.00877384751507627,
           0.06973693836794807,
           0.0287541848016567,
           0.0010293251015527514,
           1,
           -0.052807383575603516
          ],
          [
           0.24594737428245772,
           0.19345921327027263,
           0.17396195115698734,
           0.07970421408699556,
           0.04016338382798353,
           0.30580369986628797,
           0.30810738460283194,
           0.24485856688522034,
           0.015650148602748302,
           0.19845282798164054,
           0.23683032702370907,
           0.1472724088618063,
           0.18942328796266325,
           0.2603302674481976,
           -0.052807383575603516,
           1
          ]
         ]
        }
       ],
       "layout": {
        "coloraxis": {
         "colorscale": [
          [
           0,
           "#0d0887"
          ],
          [
           0.1111111111111111,
           "#46039f"
          ],
          [
           0.2222222222222222,
           "#7201a8"
          ],
          [
           0.3333333333333333,
           "#9c179e"
          ],
          [
           0.4444444444444444,
           "#bd3786"
          ],
          [
           0.5555555555555556,
           "#d8576b"
          ],
          [
           0.6666666666666666,
           "#ed7953"
          ],
          [
           0.7777777777777778,
           "#fb9f3a"
          ],
          [
           0.8888888888888888,
           "#fdca26"
          ],
          [
           1,
           "#f0f921"
          ]
         ]
        },
        "margin": {
         "t": 60
        },
        "template": {
         "data": {
          "bar": [
           {
            "error_x": {
             "color": "#2a3f5f"
            },
            "error_y": {
             "color": "#2a3f5f"
            },
            "marker": {
             "line": {
              "color": "#E5ECF6",
              "width": 0.5
             },
             "pattern": {
              "fillmode": "overlay",
              "size": 10,
              "solidity": 0.2
             }
            },
            "type": "bar"
           }
          ],
          "barpolar": [
           {
            "marker": {
             "line": {
              "color": "#E5ECF6",
              "width": 0.5
             },
             "pattern": {
              "fillmode": "overlay",
              "size": 10,
              "solidity": 0.2
             }
            },
            "type": "barpolar"
           }
          ],
          "carpet": [
           {
            "aaxis": {
             "endlinecolor": "#2a3f5f",
             "gridcolor": "white",
             "linecolor": "white",
             "minorgridcolor": "white",
             "startlinecolor": "#2a3f5f"
            },
            "baxis": {
             "endlinecolor": "#2a3f5f",
             "gridcolor": "white",
             "linecolor": "white",
             "minorgridcolor": "white",
             "startlinecolor": "#2a3f5f"
            },
            "type": "carpet"
           }
          ],
          "choropleth": [
           {
            "colorbar": {
             "outlinewidth": 0,
             "ticks": ""
            },
            "type": "choropleth"
           }
          ],
          "contour": [
           {
            "colorbar": {
             "outlinewidth": 0,
             "ticks": ""
            },
            "colorscale": [
             [
              0,
              "#0d0887"
             ],
             [
              0.1111111111111111,
              "#46039f"
             ],
             [
              0.2222222222222222,
              "#7201a8"
             ],
             [
              0.3333333333333333,
              "#9c179e"
             ],
             [
              0.4444444444444444,
              "#bd3786"
             ],
             [
              0.5555555555555556,
              "#d8576b"
             ],
             [
              0.6666666666666666,
              "#ed7953"
             ],
             [
              0.7777777777777778,
              "#fb9f3a"
             ],
             [
              0.8888888888888888,
              "#fdca26"
             ],
             [
              1,
              "#f0f921"
             ]
            ],
            "type": "contour"
           }
          ],
          "contourcarpet": [
           {
            "colorbar": {
             "outlinewidth": 0,
             "ticks": ""
            },
            "type": "contourcarpet"
           }
          ],
          "heatmap": [
           {
            "colorbar": {
             "outlinewidth": 0,
             "ticks": ""
            },
            "colorscale": [
             [
              0,
              "#0d0887"
             ],
             [
              0.1111111111111111,
              "#46039f"
             ],
             [
              0.2222222222222222,
              "#7201a8"
             ],
             [
              0.3333333333333333,
              "#9c179e"
             ],
             [
              0.4444444444444444,
              "#bd3786"
             ],
             [
              0.5555555555555556,
              "#d8576b"
             ],
             [
              0.6666666666666666,
              "#ed7953"
             ],
             [
              0.7777777777777778,
              "#fb9f3a"
             ],
             [
              0.8888888888888888,
              "#fdca26"
             ],
             [
              1,
              "#f0f921"
             ]
            ],
            "type": "heatmap"
           }
          ],
          "heatmapgl": [
           {
            "colorbar": {
             "outlinewidth": 0,
             "ticks": ""
            },
            "colorscale": [
             [
              0,
              "#0d0887"
             ],
             [
              0.1111111111111111,
              "#46039f"
             ],
             [
              0.2222222222222222,
              "#7201a8"
             ],
             [
              0.3333333333333333,
              "#9c179e"
             ],
             [
              0.4444444444444444,
              "#bd3786"
             ],
             [
              0.5555555555555556,
              "#d8576b"
             ],
             [
              0.6666666666666666,
              "#ed7953"
             ],
             [
              0.7777777777777778,
              "#fb9f3a"
             ],
             [
              0.8888888888888888,
              "#fdca26"
             ],
             [
              1,
              "#f0f921"
             ]
            ],
            "type": "heatmapgl"
           }
          ],
          "histogram": [
           {
            "marker": {
             "pattern": {
              "fillmode": "overlay",
              "size": 10,
              "solidity": 0.2
             }
            },
            "type": "histogram"
           }
          ],
          "histogram2d": [
           {
            "colorbar": {
             "outlinewidth": 0,
             "ticks": ""
            },
            "colorscale": [
             [
              0,
              "#0d0887"
             ],
             [
              0.1111111111111111,
              "#46039f"
             ],
             [
              0.2222222222222222,
              "#7201a8"
             ],
             [
              0.3333333333333333,
              "#9c179e"
             ],
             [
              0.4444444444444444,
              "#bd3786"
             ],
             [
              0.5555555555555556,
              "#d8576b"
             ],
             [
              0.6666666666666666,
              "#ed7953"
             ],
             [
              0.7777777777777778,
              "#fb9f3a"
             ],
             [
              0.8888888888888888,
              "#fdca26"
             ],
             [
              1,
              "#f0f921"
             ]
            ],
            "type": "histogram2d"
           }
          ],
          "histogram2dcontour": [
           {
            "colorbar": {
             "outlinewidth": 0,
             "ticks": ""
            },
            "colorscale": [
             [
              0,
              "#0d0887"
             ],
             [
              0.1111111111111111,
              "#46039f"
             ],
             [
              0.2222222222222222,
              "#7201a8"
             ],
             [
              0.3333333333333333,
              "#9c179e"
             ],
             [
              0.4444444444444444,
              "#bd3786"
             ],
             [
              0.5555555555555556,
              "#d8576b"
             ],
             [
              0.6666666666666666,
              "#ed7953"
             ],
             [
              0.7777777777777778,
              "#fb9f3a"
             ],
             [
              0.8888888888888888,
              "#fdca26"
             ],
             [
              1,
              "#f0f921"
             ]
            ],
            "type": "histogram2dcontour"
           }
          ],
          "mesh3d": [
           {
            "colorbar": {
             "outlinewidth": 0,
             "ticks": ""
            },
            "type": "mesh3d"
           }
          ],
          "parcoords": [
           {
            "line": {
             "colorbar": {
              "outlinewidth": 0,
              "ticks": ""
             }
            },
            "type": "parcoords"
           }
          ],
          "pie": [
           {
            "automargin": true,
            "type": "pie"
           }
          ],
          "scatter": [
           {
            "fillpattern": {
             "fillmode": "overlay",
             "size": 10,
             "solidity": 0.2
            },
            "type": "scatter"
           }
          ],
          "scatter3d": [
           {
            "line": {
             "colorbar": {
              "outlinewidth": 0,
              "ticks": ""
             }
            },
            "marker": {
             "colorbar": {
              "outlinewidth": 0,
              "ticks": ""
             }
            },
            "type": "scatter3d"
           }
          ],
          "scattercarpet": [
           {
            "marker": {
             "colorbar": {
              "outlinewidth": 0,
              "ticks": ""
             }
            },
            "type": "scattercarpet"
           }
          ],
          "scattergeo": [
           {
            "marker": {
             "colorbar": {
              "outlinewidth": 0,
              "ticks": ""
             }
            },
            "type": "scattergeo"
           }
          ],
          "scattergl": [
           {
            "marker": {
             "colorbar": {
              "outlinewidth": 0,
              "ticks": ""
             }
            },
            "type": "scattergl"
           }
          ],
          "scattermapbox": [
           {
            "marker": {
             "colorbar": {
              "outlinewidth": 0,
              "ticks": ""
             }
            },
            "type": "scattermapbox"
           }
          ],
          "scatterpolar": [
           {
            "marker": {
             "colorbar": {
              "outlinewidth": 0,
              "ticks": ""
             }
            },
            "type": "scatterpolar"
           }
          ],
          "scatterpolargl": [
           {
            "marker": {
             "colorbar": {
              "outlinewidth": 0,
              "ticks": ""
             }
            },
            "type": "scatterpolargl"
           }
          ],
          "scatterternary": [
           {
            "marker": {
             "colorbar": {
              "outlinewidth": 0,
              "ticks": ""
             }
            },
            "type": "scatterternary"
           }
          ],
          "surface": [
           {
            "colorbar": {
             "outlinewidth": 0,
             "ticks": ""
            },
            "colorscale": [
             [
              0,
              "#0d0887"
             ],
             [
              0.1111111111111111,
              "#46039f"
             ],
             [
              0.2222222222222222,
              "#7201a8"
             ],
             [
              0.3333333333333333,
              "#9c179e"
             ],
             [
              0.4444444444444444,
              "#bd3786"
             ],
             [
              0.5555555555555556,
              "#d8576b"
             ],
             [
              0.6666666666666666,
              "#ed7953"
             ],
             [
              0.7777777777777778,
              "#fb9f3a"
             ],
             [
              0.8888888888888888,
              "#fdca26"
             ],
             [
              1,
              "#f0f921"
             ]
            ],
            "type": "surface"
           }
          ],
          "table": [
           {
            "cells": {
             "fill": {
              "color": "#EBF0F8"
             },
             "line": {
              "color": "white"
             }
            },
            "header": {
             "fill": {
              "color": "#C8D4E3"
             },
             "line": {
              "color": "white"
             }
            },
            "type": "table"
           }
          ]
         },
         "layout": {
          "annotationdefaults": {
           "arrowcolor": "#2a3f5f",
           "arrowhead": 0,
           "arrowwidth": 1
          },
          "autotypenumbers": "strict",
          "coloraxis": {
           "colorbar": {
            "outlinewidth": 0,
            "ticks": ""
           }
          },
          "colorscale": {
           "diverging": [
            [
             0,
             "#8e0152"
            ],
            [
             0.1,
             "#c51b7d"
            ],
            [
             0.2,
             "#de77ae"
            ],
            [
             0.3,
             "#f1b6da"
            ],
            [
             0.4,
             "#fde0ef"
            ],
            [
             0.5,
             "#f7f7f7"
            ],
            [
             0.6,
             "#e6f5d0"
            ],
            [
             0.7,
             "#b8e186"
            ],
            [
             0.8,
             "#7fbc41"
            ],
            [
             0.9,
             "#4d9221"
            ],
            [
             1,
             "#276419"
            ]
           ],
           "sequential": [
            [
             0,
             "#0d0887"
            ],
            [
             0.1111111111111111,
             "#46039f"
            ],
            [
             0.2222222222222222,
             "#7201a8"
            ],
            [
             0.3333333333333333,
             "#9c179e"
            ],
            [
             0.4444444444444444,
             "#bd3786"
            ],
            [
             0.5555555555555556,
             "#d8576b"
            ],
            [
             0.6666666666666666,
             "#ed7953"
            ],
            [
             0.7777777777777778,
             "#fb9f3a"
            ],
            [
             0.8888888888888888,
             "#fdca26"
            ],
            [
             1,
             "#f0f921"
            ]
           ],
           "sequentialminus": [
            [
             0,
             "#0d0887"
            ],
            [
             0.1111111111111111,
             "#46039f"
            ],
            [
             0.2222222222222222,
             "#7201a8"
            ],
            [
             0.3333333333333333,
             "#9c179e"
            ],
            [
             0.4444444444444444,
             "#bd3786"
            ],
            [
             0.5555555555555556,
             "#d8576b"
            ],
            [
             0.6666666666666666,
             "#ed7953"
            ],
            [
             0.7777777777777778,
             "#fb9f3a"
            ],
            [
             0.8888888888888888,
             "#fdca26"
            ],
            [
             1,
             "#f0f921"
            ]
           ]
          },
          "colorway": [
           "#636efa",
           "#EF553B",
           "#00cc96",
           "#ab63fa",
           "#FFA15A",
           "#19d3f3",
           "#FF6692",
           "#B6E880",
           "#FF97FF",
           "#FECB52"
          ],
          "font": {
           "color": "#2a3f5f"
          },
          "geo": {
           "bgcolor": "white",
           "lakecolor": "white",
           "landcolor": "#E5ECF6",
           "showlakes": true,
           "showland": true,
           "subunitcolor": "white"
          },
          "hoverlabel": {
           "align": "left"
          },
          "hovermode": "closest",
          "mapbox": {
           "style": "light"
          },
          "paper_bgcolor": "white",
          "plot_bgcolor": "#E5ECF6",
          "polar": {
           "angularaxis": {
            "gridcolor": "white",
            "linecolor": "white",
            "ticks": ""
           },
           "bgcolor": "#E5ECF6",
           "radialaxis": {
            "gridcolor": "white",
            "linecolor": "white",
            "ticks": ""
           }
          },
          "scene": {
           "xaxis": {
            "backgroundcolor": "#E5ECF6",
            "gridcolor": "white",
            "gridwidth": 2,
            "linecolor": "white",
            "showbackground": true,
            "ticks": "",
            "zerolinecolor": "white"
           },
           "yaxis": {
            "backgroundcolor": "#E5ECF6",
            "gridcolor": "white",
            "gridwidth": 2,
            "linecolor": "white",
            "showbackground": true,
            "ticks": "",
            "zerolinecolor": "white"
           },
           "zaxis": {
            "backgroundcolor": "#E5ECF6",
            "gridcolor": "white",
            "gridwidth": 2,
            "linecolor": "white",
            "showbackground": true,
            "ticks": "",
            "zerolinecolor": "white"
           }
          },
          "shapedefaults": {
           "line": {
            "color": "#2a3f5f"
           }
          },
          "ternary": {
           "aaxis": {
            "gridcolor": "white",
            "linecolor": "white",
            "ticks": ""
           },
           "baxis": {
            "gridcolor": "white",
            "linecolor": "white",
            "ticks": ""
           },
           "bgcolor": "#E5ECF6",
           "caxis": {
            "gridcolor": "white",
            "linecolor": "white",
            "ticks": ""
           }
          },
          "title": {
           "x": 0.05
          },
          "xaxis": {
           "automargin": true,
           "gridcolor": "white",
           "linecolor": "white",
           "ticks": "",
           "title": {
            "standoff": 15
           },
           "zerolinecolor": "white",
           "zerolinewidth": 2
          },
          "yaxis": {
           "automargin": true,
           "gridcolor": "white",
           "linecolor": "white",
           "ticks": "",
           "title": {
            "standoff": 15
           },
           "zerolinecolor": "white",
           "zerolinewidth": 2
          }
         }
        },
        "xaxis": {
         "anchor": "y",
         "domain": [
          0,
          1
         ]
        },
        "yaxis": {
         "anchor": "x",
         "autorange": "reversed",
         "domain": [
          0,
          1
         ]
        }
       }
      }
     },
     "metadata": {},
     "output_type": "display_data"
    }
   ],
   "source": [
    "split_columns_df = pd.DataFrame()\n",
    "\n",
    "# Loops through each column to create a one hot\n",
    "for x in range(1, len(top_columns)):\n",
    "    \n",
    "    # If the column is continuous, check the correlation value and determine \n",
    "    if 1. * df[top_columns[x]].nunique() / df[top_columns[x]].count() >= 0.01:\n",
    "        \n",
    "        # Creates the correlation for the column, then captures the relation to SalePrice and stores it\n",
    "        corr = df[top_columns].corr()['SalePrice']\n",
    "        split_columns_df = (df[top_columns[x]]).to_frame().merge(temp_df, how='outer', left_index=True, right_index=True)\n",
    "        continue\n",
    "\n",
    "    # Since the column is continuous, create the dummy variables, then find the correlation between SalePrice and dummies\n",
    "    onehot_df = pd.get_dummies(df[top_columns[x]], prefix=top_columns[x], prefix_sep=' ')\n",
    "    onehot_df.insert(0, 'SalePrice', df[top_columns[0]])\n",
    "    corr = onehot_df.corr().abs()['SalePrice']\n",
    "    \n",
    "    # Removes the duplicate SalePrice from the dataset\n",
    "    corr = corr.where((corr.index != 'SalePrice'))\n",
    "    corr.dropna(inplace=True)\n",
    "    onehot_df = onehot_df[corr.index.tolist()]\n",
    "\n",
    "    # Stores the data from the columns\n",
    "    temp_df = onehot_df.merge(split_columns_df, how='outer', left_index=True, right_index=True)\n",
    "    \n",
    "# Adds in the SalePrice column and creates a correlation matrix\n",
    "split_columns_df['SalePrice'] = df['SalePrice']\n",
    "onehot_df = split_columns_df.corr('pearson').abs()\n",
    "\n",
    "# Captures the 16 highest correlated columns, then stores the names of those columns as a list\n",
    "onehot_df = onehot_df.sort_values('SalePrice', ascending=False)\n",
    "top_onehot_columns = onehot_df.head(16)\n",
    "top_onehot_columns = top_onehot_columns.index.tolist()\n",
    "\n",
    "# Creates the heatmap to display the correlation\n",
    "fig = px.imshow(onehot_df[top_onehot_columns].corr('pearson'), text_auto=True, aspect=\"auto\")\n",
    "fig.show()"
   ]
  },
  {
   "attachments": {},
   "cell_type": "markdown",
   "metadata": {},
   "source": [
    "This correlation matrix gives us a more precise view of the key features in our data. Some continuous features such as 'Year Built' and '1st Flr SF' maintain their higher correlation, but by creating one-hots from the categorical columns, you can see that certain categories are more important that others. For instance, 'Garage Cars 3.0' has a much stronger correlation to the price than 'Garage Cars 1.0', allowing us isolate the most important parts of given features. \n",
    "\n",
    "Before we can preform predictive analysis via machine learning, we need to clean dependent variable, SalePrice. SalePrice is still a continuous column which is very difficult to predict accurately. One method of alleviating this problem is to convert this to categorical values by using bins, or binning. To do so, we will define a range of bins, then place each observation into the appropriate bin."
   ]
  },
  {
   "cell_type": "code",
   "execution_count": 191,
   "metadata": {},
   "outputs": [],
   "source": [
    "import numpy as np\n",
    "\n",
    "# Create a list of bins, ranging from the lowest to highest sales price, every $5,000\n",
    "bins = list(range(split_columns_df['SalePrice'].min(), split_columns_df['SalePrice'].max(), 5000))\n",
    "\n",
    "cleaned_df = split_columns_df.copy()\n",
    "cleaned_df['SalePrice'] = np.searchsorted(bins, cleaned_df['SalePrice'].values)"
   ]
  },
  {
   "attachments": {},
   "cell_type": "markdown",
   "metadata": {},
   "source": [
    "Now that we have isolated the top columns in the dataset for correlation, and we have binned the SalePrice to be within $5000 of the original price, we can select a machine learning model to use as our classification model. With both our independent and dependant variables being categorical, the best option for classification would be a decision tree."
   ]
  },
  {
   "cell_type": "code",
   "execution_count": 198,
   "metadata": {},
   "outputs": [
    {
     "name": "stdout",
     "output_type": "stream",
     "text": [
      "Decision Tree Accuracy: 0.9377133105802048\n"
     ]
    }
   ],
   "source": [
    "from sklearn.tree import DecisionTreeClassifier\n",
    "from sklearn.model_selection import train_test_split\n",
    "from sklearn.metrics import accuracy_score\n",
    "\n",
    "y = cleaned_df[top_onehot_columns].iloc[:, :1]\n",
    "X = cleaned_df[top_onehot_columns].iloc[:, 1:]\n",
    "\n",
    "\n",
    "X_train, X_test, y_train, y_test = train_test_split(cleaned_df[top_onehot_columns].apply(preprocessing.LabelEncoder().fit_transform), y, test_size=0.8, random_state=1)\n",
    "\n",
    "TreeModel = DecisionTreeClassifier(random_state=1)\n",
    "TreeModel = TreeModel.fit(X_train, y_train.values.ravel())\n",
    "y_pred = TreeModel.predict(X_test)\n",
    "\n",
    "#Prints the results of the decision tree\n",
    "TreeAccuracy = accuracy_score(y_test, y_pred)\n",
    "print(f\"Decision Tree Accuracy: {TreeAccuracy}\")"
   ]
  }
 ],
 "metadata": {
  "kernelspec": {
   "display_name": "Python 3",
   "language": "python",
   "name": "python3"
  },
  "language_info": {
   "codemirror_mode": {
    "name": "ipython",
    "version": 3
   },
   "file_extension": ".py",
   "mimetype": "text/x-python",
   "name": "python",
   "nbconvert_exporter": "python",
   "pygments_lexer": "ipython3",
   "version": "3.10.11"
  },
  "orig_nbformat": 4
 },
 "nbformat": 4,
 "nbformat_minor": 2
}
